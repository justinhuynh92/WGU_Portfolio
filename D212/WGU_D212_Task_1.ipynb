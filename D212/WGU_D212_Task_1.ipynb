{
 "cells": [
  {
   "cell_type": "code",
   "execution_count": 10,
   "id": "1a84b8e1",
   "metadata": {
    "scrolled": false
   },
   "outputs": [
    {
     "name": "stdout",
     "output_type": "stream",
     "text": [
      "<class 'pandas.core.frame.DataFrame'>\n",
      "RangeIndex: 10000 entries, 0 to 9999\n",
      "Data columns (total 50 columns):\n",
      " #   Column                Non-Null Count  Dtype  \n",
      "---  ------                --------------  -----  \n",
      " 0   CaseOrder             10000 non-null  int64  \n",
      " 1   Customer_id           10000 non-null  object \n",
      " 2   Interaction           10000 non-null  object \n",
      " 3   UID                   10000 non-null  object \n",
      " 4   City                  10000 non-null  object \n",
      " 5   State                 10000 non-null  object \n",
      " 6   County                10000 non-null  object \n",
      " 7   Zip                   10000 non-null  int64  \n",
      " 8   Lat                   10000 non-null  float64\n",
      " 9   Lng                   10000 non-null  float64\n",
      " 10  Population            10000 non-null  int64  \n",
      " 11  Area                  10000 non-null  object \n",
      " 12  TimeZone              10000 non-null  object \n",
      " 13  Job                   10000 non-null  object \n",
      " 14  Children              10000 non-null  int64  \n",
      " 15  Age                   10000 non-null  int64  \n",
      " 16  Income                10000 non-null  float64\n",
      " 17  Marital               10000 non-null  object \n",
      " 18  Gender                10000 non-null  object \n",
      " 19  Churn                 10000 non-null  object \n",
      " 20  Outage_sec_perweek    10000 non-null  float64\n",
      " 21  Email                 10000 non-null  int64  \n",
      " 22  Contacts              10000 non-null  int64  \n",
      " 23  Yearly_equip_failure  10000 non-null  int64  \n",
      " 24  Techie                10000 non-null  object \n",
      " 25  Contract              10000 non-null  object \n",
      " 26  Port_modem            10000 non-null  object \n",
      " 27  Tablet                10000 non-null  object \n",
      " 28  InternetService       10000 non-null  object \n",
      " 29  Phone                 10000 non-null  object \n",
      " 30  Multiple              10000 non-null  object \n",
      " 31  OnlineSecurity        10000 non-null  object \n",
      " 32  OnlineBackup          10000 non-null  object \n",
      " 33  DeviceProtection      10000 non-null  object \n",
      " 34  TechSupport           10000 non-null  object \n",
      " 35  StreamingTV           10000 non-null  object \n",
      " 36  StreamingMovies       10000 non-null  object \n",
      " 37  PaperlessBilling      10000 non-null  object \n",
      " 38  PaymentMethod         10000 non-null  object \n",
      " 39  Tenure                10000 non-null  float64\n",
      " 40  MonthlyCharge         10000 non-null  float64\n",
      " 41  Bandwidth_GB_Year     10000 non-null  float64\n",
      " 42  Item1                 10000 non-null  int64  \n",
      " 43  Item2                 10000 non-null  int64  \n",
      " 44  Item3                 10000 non-null  int64  \n",
      " 45  Item4                 10000 non-null  int64  \n",
      " 46  Item5                 10000 non-null  int64  \n",
      " 47  Item6                 10000 non-null  int64  \n",
      " 48  Item7                 10000 non-null  int64  \n",
      " 49  Item8                 10000 non-null  int64  \n",
      "dtypes: float64(7), int64(16), object(27)\n",
      "memory usage: 3.8+ MB\n"
     ]
    }
   ],
   "source": [
    "import pandas as pd\n",
    "import numpy as np\n",
    "import matplotlib.pyplot as plt\n",
    "import seaborn as sns\n",
    "from scipy import stats\n",
    "import statsmodels.api as sm\n",
    "from sklearn.preprocessing import LabelEncoder, StandardScaler\n",
    "from sklearn.cluster import KMeans\n",
    "\n",
    "# importing the churn_raw_data.csv through the file path\n",
    "df = pd.read_csv('/Users/justinhuynh/Desktop/churn.csv')\n",
    "# check all information about this file\n",
    "df.info()"
   ]
  },
  {
   "cell_type": "code",
   "execution_count": 11,
   "id": "00e7cb96",
   "metadata": {},
   "outputs": [],
   "source": [
    "# select the relevant continuous variables for clustering\n",
    "df_cluster = df[['MonthlyCharge', 'Bandwidth_GB_Year']]"
   ]
  },
  {
   "cell_type": "code",
   "execution_count": 12,
   "id": "a7ee770f",
   "metadata": {},
   "outputs": [],
   "source": [
    "# check for missing values in the selected columns\n",
    "missing_values = df_cluster.isnull().sum()"
   ]
  },
  {
   "cell_type": "code",
   "execution_count": 13,
   "id": "c141abbe",
   "metadata": {},
   "outputs": [],
   "source": [
    "# drop rows with missing values (if any)\n",
    "df_cluster_clean = df_cluster.dropna()"
   ]
  },
  {
   "cell_type": "code",
   "execution_count": 14,
   "id": "05c325cc",
   "metadata": {},
   "outputs": [],
   "source": [
    "# standardize the data\n",
    "scaler = StandardScaler()\n",
    "df_cluster_scaled = scaler.fit_transform(df_cluster_clean)"
   ]
  },
  {
   "cell_type": "code",
   "execution_count": 15,
   "id": "a6c12c1b",
   "metadata": {},
   "outputs": [],
   "source": [
    "# convert back to dataframe for ease of use\n",
    "df_cluster_scaled = pd.DataFrame(df_cluster_scaled, columns=['MonthlyCharge', 'Bandwidth_GB_Year'])"
   ]
  },
  {
   "cell_type": "code",
   "execution_count": 16,
   "id": "0b7f8fd7",
   "metadata": {},
   "outputs": [],
   "source": [
    "# save prepared data to csv\n",
    "df_cluster_scaled.to_csv('prepared_data_d212_task1.csv', index=False)"
   ]
  },
  {
   "cell_type": "code",
   "execution_count": 17,
   "id": "7be5e256",
   "metadata": {},
   "outputs": [
    {
     "data": {
      "image/png": "[encoded data removed]",
      "text/plain": [
       "<Figure size 800x500 with 1 Axes>"
      ]
     },
     "metadata": {},
     "output_type": "display_data"
    }
   ],
   "source": [
    "# determine the optimal number of clusters using the elbow method\n",
    "inertia = []\n",
    "k_range = range(1, 11)\n",
    "\n",
    "for k in k_range:\n",
    "    kmeans = KMeans(n_clusters=k, random_state=42, n_init=10)\n",
    "    kmeans.fit(df_cluster_scaled)\n",
    "    inertia.append(kmeans.inertia_)\n",
    "\n",
    "# plotting the elbow method results\n",
    "plt.figure(figsize=(8, 5))\n",
    "plt.plot(k_range, inertia, 'bo-')\n",
    "plt.xlabel('Number of Clusters (k)')\n",
    "plt.ylabel('Inertia')\n",
    "plt.title('Elbow Method for Determining Optimal k')\n",
    "plt.show()\n",
    "\n",
    "# perform K-means clustering with the optimal number of clusters\n",
    "optimal_k = 3  \n",
    "# replace with the optimal k determined from the plot\n",
    "kmeans = KMeans(n_clusters=optimal_k, random_state=42, n_init=10)\n",
    "df_cluster_scaled['Cluster'] = kmeans.fit_predict(df_cluster_scaled)"
   ]
  },
  {
   "cell_type": "code",
   "execution_count": 18,
   "id": "6f652fe3",
   "metadata": {},
   "outputs": [],
   "source": [
    "# save the clustered data to a csv file\n",
    "df_cluster_scaled.to_csv('clustered_data_d212_task1.csv', index=False)"
   ]
  },
  {
   "cell_type": "code",
   "execution_count": null,
   "id": "bfdeafb6",
   "metadata": {},
   "outputs": [],
   "source": []
  }
 ],
 "metadata": {
  "kernelspec": {
   "display_name": "Python 3 (ipykernel)",
   "language": "python",
   "name": "python3"
  },
  "language_info": {
   "codemirror_mode": {
    "name": "ipython",
    "version": 3
   },
   "file_extension": ".py",
   "mimetype": "text/x-python",
   "name": "python",
   "nbconvert_exporter": "python",
   "pygments_lexer": "ipython3",
   "version": "3.11.4"
  }
 },
 "nbformat": 4,
 "nbformat_minor": 5
}
