{
 "cells": [
  {
   "cell_type": "code",
   "execution_count": 20,
   "id": "1a84b8e1",
   "metadata": {
    "scrolled": false
   },
   "outputs": [
    {
     "name": "stdout",
     "output_type": "stream",
     "text": [
      "<class 'pandas.core.frame.DataFrame'>\n",
      "RangeIndex: 10000 entries, 0 to 9999\n",
      "Data columns (total 50 columns):\n",
      " #   Column                Non-Null Count  Dtype  \n",
      "---  ------                --------------  -----  \n",
      " 0   CaseOrder             10000 non-null  int64  \n",
      " 1   Customer_id           10000 non-null  object \n",
      " 2   Interaction           10000 non-null  object \n",
      " 3   UID                   10000 non-null  object \n",
      " 4   City                  10000 non-null  object \n",
      " 5   State                 10000 non-null  object \n",
      " 6   County                10000 non-null  object \n",
      " 7   Zip                   10000 non-null  int64  \n",
      " 8   Lat                   10000 non-null  float64\n",
      " 9   Lng                   10000 non-null  float64\n",
      " 10  Population            10000 non-null  int64  \n",
      " 11  Area                  10000 non-null  object \n",
      " 12  TimeZone              10000 non-null  object \n",
      " 13  Job                   10000 non-null  object \n",
      " 14  Children              10000 non-null  int64  \n",
      " 15  Age                   10000 non-null  int64  \n",
      " 16  Income                10000 non-null  float64\n",
      " 17  Marital               10000 non-null  object \n",
      " 18  Gender                10000 non-null  object \n",
      " 19  Churn                 10000 non-null  object \n",
      " 20  Outage_sec_perweek    10000 non-null  float64\n",
      " 21  Email                 10000 non-null  int64  \n",
      " 22  Contacts              10000 non-null  int64  \n",
      " 23  Yearly_equip_failure  10000 non-null  int64  \n",
      " 24  Techie                10000 non-null  object \n",
      " 25  Contract              10000 non-null  object \n",
      " 26  Port_modem            10000 non-null  object \n",
      " 27  Tablet                10000 non-null  object \n",
      " 28  InternetService       10000 non-null  object \n",
      " 29  Phone                 10000 non-null  object \n",
      " 30  Multiple              10000 non-null  object \n",
      " 31  OnlineSecurity        10000 non-null  object \n",
      " 32  OnlineBackup          10000 non-null  object \n",
      " 33  DeviceProtection      10000 non-null  object \n",
      " 34  TechSupport           10000 non-null  object \n",
      " 35  StreamingTV           10000 non-null  object \n",
      " 36  StreamingMovies       10000 non-null  object \n",
      " 37  PaperlessBilling      10000 non-null  object \n",
      " 38  PaymentMethod         10000 non-null  object \n",
      " 39  Tenure                10000 non-null  float64\n",
      " 40  MonthlyCharge         10000 non-null  float64\n",
      " 41  Bandwidth_GB_Year     10000 non-null  float64\n",
      " 42  Item1                 10000 non-null  int64  \n",
      " 43  Item2                 10000 non-null  int64  \n",
      " 44  Item3                 10000 non-null  int64  \n",
      " 45  Item4                 10000 non-null  int64  \n",
      " 46  Item5                 10000 non-null  int64  \n",
      " 47  Item6                 10000 non-null  int64  \n",
      " 48  Item7                 10000 non-null  int64  \n",
      " 49  Item8                 10000 non-null  int64  \n",
      "dtypes: float64(7), int64(16), object(27)\n",
      "memory usage: 3.8+ MB\n"
     ]
    }
   ],
   "source": [
    "import pandas as pd\n",
    "import numpy as np\n",
    "import matplotlib.pyplot as plt\n",
    "import seaborn as sns\n",
    "from scipy import stats\n",
    "from sklearn.preprocessing import StandardScaler\n",
    "from sklearn.decomposition import PCA\n",
    "\n",
    "# importing the churn_raw_data.csv through the file path\n",
    "df = pd.read_csv('/Users/justinhuynh/Desktop/churn.csv')\n",
    "# check all information about this file\n",
    "df.info()"
   ]
  },
  {
   "cell_type": "code",
   "execution_count": 21,
   "id": "00e7cb96",
   "metadata": {},
   "outputs": [],
   "source": [
    "# select the relevant continuous variables for PCA\n",
    "continuous_vars = ['MonthlyCharge', 'Bandwidth_GB_Year', 'Outage_sec_perweek', 'Tenure']"
   ]
  },
  {
   "cell_type": "code",
   "execution_count": 22,
   "id": "015536de",
   "metadata": {},
   "outputs": [],
   "source": [
    "# select the relevant data\n",
    "df_continuous = df[continuous_vars]"
   ]
  },
  {
   "cell_type": "code",
   "execution_count": 23,
   "id": "7cc366a9",
   "metadata": {},
   "outputs": [],
   "source": [
    "# standardize the continuous variables\n",
    "scaler = StandardScaler()\n",
    "df_continuous_scaled = scaler.fit_transform(df_continuous)"
   ]
  },
  {
   "cell_type": "code",
   "execution_count": 24,
   "id": "c95b6ccc",
   "metadata": {},
   "outputs": [],
   "source": [
    "# convert the standardized data back to a dataframe\n",
    "df_continuous_scaled = pd.DataFrame(df_continuous_scaled, columns=continuous_vars)"
   ]
  },
  {
   "cell_type": "code",
   "execution_count": 25,
   "id": "20d7632c",
   "metadata": {},
   "outputs": [],
   "source": [
    "# save prepared data to csv\n",
    "df_continuous_scaled.to_csv('prepared_data_d212_task2.csv', index=False)"
   ]
  },
  {
   "cell_type": "code",
   "execution_count": 26,
   "id": "68834649",
   "metadata": {},
   "outputs": [
    {
     "data": {
      "text/html": [
       "<div>\n",
       "<style scoped>\n",
       "    .dataframe tbody tr th:only-of-type {\n",
       "        vertical-align: middle;\n",
       "    }\n",
       "\n",
       "    .dataframe tbody tr th {\n",
       "        vertical-align: top;\n",
       "    }\n",
       "\n",
       "    .dataframe thead th {\n",
       "        text-align: right;\n",
       "    }\n",
       "</style>\n",
       "<table border=\"1\" class=\"dataframe\">\n",
       "  <thead>\n",
       "    <tr style=\"text-align: right;\">\n",
       "      <th></th>\n",
       "      <th>MonthlyCharge</th>\n",
       "      <th>Bandwidth_GB_Year</th>\n",
       "      <th>Outage_sec_perweek</th>\n",
       "      <th>Tenure</th>\n",
       "    </tr>\n",
       "  </thead>\n",
       "  <tbody>\n",
       "    <tr>\n",
       "      <th>0</th>\n",
       "      <td>0.040761</td>\n",
       "      <td>0.707163</td>\n",
       "      <td>0.005898</td>\n",
       "      <td>0.705850</td>\n",
       "    </tr>\n",
       "    <tr>\n",
       "      <th>1</th>\n",
       "      <td>0.709435</td>\n",
       "      <td>-0.000646</td>\n",
       "      <td>0.703255</td>\n",
       "      <td>-0.046197</td>\n",
       "    </tr>\n",
       "    <tr>\n",
       "      <th>2</th>\n",
       "      <td>0.702127</td>\n",
       "      <td>0.005274</td>\n",
       "      <td>-0.710914</td>\n",
       "      <td>-0.039890</td>\n",
       "    </tr>\n",
       "    <tr>\n",
       "      <th>3</th>\n",
       "      <td>-0.045358</td>\n",
       "      <td>0.707031</td>\n",
       "      <td>0.000047</td>\n",
       "      <td>-0.705727</td>\n",
       "    </tr>\n",
       "  </tbody>\n",
       "</table>\n",
       "</div>"
      ],
      "text/plain": [
       "   MonthlyCharge  Bandwidth_GB_Year  Outage_sec_perweek    Tenure\n",
       "0       0.040761           0.707163            0.005898  0.705850\n",
       "1       0.709435          -0.000646            0.703255 -0.046197\n",
       "2       0.702127           0.005274           -0.710914 -0.039890\n",
       "3      -0.045358           0.707031            0.000047 -0.705727"
      ]
     },
     "execution_count": 26,
     "metadata": {},
     "output_type": "execute_result"
    }
   ],
   "source": [
    "# df_continuous_scaled is already standardized and available\n",
    "pca = PCA()\n",
    "principal_components = pca.fit_transform(df_continuous_scaled)\n",
    "\n",
    "# matrix of all principal components\n",
    "components_matrix = pd.DataFrame(pca.components_, columns=df_continuous_scaled.columns)\n",
    "\n",
    "# display the components matrix\n",
    "components_matrix"
   ]
  },
  {
   "cell_type": "code",
   "execution_count": 27,
   "id": "5e7af397",
   "metadata": {},
   "outputs": [
    {
     "data": {
      "image/png": "[encoded data removed]",
      "text/plain": [
       "<Figure size 800x500 with 1 Axes>"
      ]
     },
     "metadata": {},
     "output_type": "display_data"
    }
   ],
   "source": [
    "# display scree plot to determine the number of principal components\n",
    "plt.figure(figsize=(8, 5))\n",
    "plt.plot(range(1, len(pca.explained_variance_ratio_) + 1), pca.explained_variance_ratio_, 'bo-', linewidth=2)\n",
    "plt.title('Scree Plot')\n",
    "plt.xlabel('Principal Component')\n",
    "plt.ylabel('Explained Variance Ratio')\n",
    "plt.xticks(range(1, len(pca.explained_variance_ratio_) + 1))\n",
    "plt.grid()\n",
    "plt.show()"
   ]
  },
  {
   "cell_type": "code",
   "execution_count": 28,
   "id": "639c80f2",
   "metadata": {},
   "outputs": [
    {
     "data": {
      "text/plain": [
       "0    0.498293\n",
       "1    0.255120\n",
       "2    0.244973\n",
       "3    0.001615\n",
       "dtype: float64"
      ]
     },
     "execution_count": 28,
     "metadata": {},
     "output_type": "execute_result"
    }
   ],
   "source": [
    "# variance explained by each principal component\n",
    "explained_variance = pd.Series(pca.explained_variance_ratio_)\n",
    "\n",
    "# display the explained variance for each principal component\n",
    "explained_variance"
   ]
  },
  {
   "cell_type": "code",
   "execution_count": 29,
   "id": "0bbede9a",
   "metadata": {},
   "outputs": [
    {
     "data": {
      "text/plain": [
       "0    0.498293\n",
       "1    0.753413\n",
       "2    0.998385\n",
       "3    1.000000\n",
       "dtype: float64"
      ]
     },
     "execution_count": 29,
     "metadata": {},
     "output_type": "execute_result"
    }
   ],
   "source": [
    "# cumulative variance to determine total variance captured by selected components\n",
    "cumulative_variance = explained_variance.cumsum()\n",
    "\n",
    "# display cumulative variance\n",
    "cumulative_variance"
   ]
  },
  {
   "cell_type": "code",
   "execution_count": null,
   "id": "b44d3a96",
   "metadata": {},
   "outputs": [],
   "source": []
  }
 ],
 "metadata": {
  "kernelspec": {
   "display_name": "Python 3 (ipykernel)",
   "language": "python",
   "name": "python3"
  },
  "language_info": {
   "codemirror_mode": {
    "name": "ipython",
    "version": 3
   },
   "file_extension": ".py",
   "mimetype": "text/x-python",
   "name": "python",
   "nbconvert_exporter": "python",
   "pygments_lexer": "ipython3",
   "version": "3.11.4"
  }
 },
 "nbformat": 4,
 "nbformat_minor": 5
}
